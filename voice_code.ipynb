{
 "cells": [
  {
   "cell_type": "code",
   "execution_count": 1,
   "metadata": {},
   "outputs": [],
   "source": [
    "import pyttsx3\n",
    "import time\n",
    "\n",
    "def set_voice_rate(engine, rate):\n",
    "    voices = engine.getProperty('voices')\n",
    "    engine.setProperty('voice', voices[1].id)  # You can change the index to select a different voice\n",
    "    engine.setProperty('rate', rate)  # Adjust the rate as needed\n",
    "\n",
    "def speak(text):\n",
    "    engine = pyttsx3.init()\n",
    "    set_voice_rate(engine, 200)  # Adjust the rate as needed\n",
    "    engine.say(text)\n",
    "    engine.runAndWait()\n",
    "\n",
    "names = [\"Hello\",\"World\"]\n",
    "i = 0\n",
    "\n",
    "while i < len(names):\n",
    "    speak(f\"{names[i]}\")\n",
    "    time.sleep(0.5)\n",
    "    i += 1\n"
   ]
  },
  {
   "cell_type": "code",
   "execution_count": null,
   "metadata": {},
   "outputs": [],
   "source": []
  }
 ],
 "metadata": {
  "kernelspec": {
   "display_name": "Python 3",
   "language": "python",
   "name": "python3"
  },
  "language_info": {
   "codemirror_mode": {
    "name": "ipython",
    "version": 3
   },
   "file_extension": ".py",
   "mimetype": "text/x-python",
   "name": "python",
   "nbconvert_exporter": "python",
   "pygments_lexer": "ipython3",
   "version": "3.12.2"
  }
 },
 "nbformat": 4,
 "nbformat_minor": 2
}
